{
 "cells": [
  {
   "cell_type": "code",
   "execution_count": 2,
   "metadata": {
    "collapsed": true
   },
   "outputs": [],
   "source": [
    "-- hack for reload main.lua\n",
    "function reload(name)\n",
    "    package.loaded[name] = nil\n",
    "    return require(name)\n",
    "end"
   ]
  },
  {
   "cell_type": "code",
   "execution_count": 3,
   "metadata": {
    "collapsed": false
   },
   "outputs": [
    {
     "data": {
      "text/plain": [
       "true\t\n"
      ]
     },
     "execution_count": 3,
     "metadata": {},
     "output_type": "execute_result"
    }
   ],
   "source": [
    "reload('main')"
   ]
  },
  {
   "cell_type": "code",
   "execution_count": 6,
   "metadata": {
    "collapsed": true
   },
   "outputs": [],
   "source": []
  },
  {
   "cell_type": "code",
   "execution_count": 4,
   "metadata": {
    "collapsed": false
   },
   "outputs": [],
   "source": [
    "-- load training data\n",
    "dataset_inputs = torch.Tensor(read('X_train.csv',',',True))\n",
    "dataset_outputs = torch.Tensor(read('y_train.csv',',',True)):t()[1]\n",
    "dataset_filters = torch.Tensor(read('filters_train.csv',',',True))\n",
    "tf_matrix = torch.Tensor(read('tf_matrix.csv',',',True)):t()"
   ]
  },
  {
   "cell_type": "code",
   "execution_count": null,
   "metadata": {
    "collapsed": true
   },
   "outputs": [],
   "source": [
    "-- make weighted tf model\n",
    "h1 = - nn.CMul(1,1276)\n",
    "h2 = - nn.Identity()\n",
    "h3 = {h1,h2} - nn.MM()\n",
    "--h4 = - nn.Identity()\n",
    "--h5 = {h3,h4} - nn.MM()\n",
    "h4 = h3 - nn.LogSoftMax()\n",
    "model = nn.gModule({h1,h2}, {h4})\n",
    "\n",
    "criterion = nn.ClassNLLCriterion()"
   ]
  },
  {
   "cell_type": "code",
   "execution_count": null,
   "metadata": {
    "collapsed": true
   },
   "outputs": [],
   "source": [
    "------------------------------------------------------------------------------------------------\n",
    "--- Training Flow\n",
    "------------------------------------------------------------------------------------------------\n",
    "\n",
    "nepochs = 30\n",
    "for i=1,nepochs do\n",
    "    \n",
    "    -- loop dataset\n",
    "    tot_err = 0\n",
    "    for j=1,9000 do\n",
    "        \n",
    "        -- load dataset line\n",
    "        input = dataset_inputs[j]:view(1,1276)\n",
    "        correct_class = dataset_outputs[j]\n",
    "        \n",
    "        -- forward pass\n",
    "        pred = model:forward({input,tf_matrix})\n",
    "        err = criterion:forward(pred, correct_class)\n",
    "        tot_err = tot_err + err\n",
    "        \n",
    "        -- backward pass\n",
    "        gradCriterion = criterion:backward(pred, correct_class)\n",
    "        model:zeroGradParameters()\n",
    "        model:backward(x, gradCriterion)\n",
    "        learningRate = 1e-1\n",
    "        model:updateParameters(learningRate)\n",
    "        \n",
    "    end\n",
    "\n",
    "    print(tot_err)\n",
    "end"
   ]
  },
  {
   "cell_type": "code",
   "execution_count": 6,
   "metadata": {
    "collapsed": false
   },
   "outputs": [
    {
     "data": {
      "text/plain": [
       "\n"
      ]
     },
     "execution_count": 6,
     "metadata": {},
     "output_type": "execute_result"
    }
   ],
   "source": [
    "--torch.save('good-model',model)"
   ]
  },
  {
   "cell_type": "code",
   "execution_count": null,
   "metadata": {
    "collapsed": true
   },
   "outputs": [],
   "source": []
  },
  {
   "cell_type": "code",
   "execution_count": null,
   "metadata": {
    "collapsed": true
   },
   "outputs": [],
   "source": [
    "---------------------------------------------------------------------------------------------\n",
    "--- Test Flow\n",
    "---------------------------------------------------------------------------------------------\n",
    "\n",
    "-- model from training flow above\n",
    "model = torch.load('good-model')\n",
    "\n",
    "-- preprocessed features for test data are written to this file by Main.ipynb\n",
    "-- one line per dataset entry\n",
    "local file = assert(io.open('intermediate_info.txt', \"r\"))\n",
    "local lines = file:lines()\n",
    "\n",
    "-- loop dataset entries\n",
    "for line in lines do\n",
    "    parts = split(line,'|')\n",
    "    correct_label = tonumber(parts[1])\n",
    "    --print(correct_label)\n",
    "\n",
    "    -- loop entity possibilities\n",
    "    predictions = {}\n",
    "    for i=2,#parts,5 do\n",
    "        \n",
    "        -- load dataset line\n",
    "        ent_correct = parts[i]\n",
    "        p_spelling = tonumber(parts[i+1])\n",
    "        ent_score = tonumber(parts[i+2])\n",
    "        data_input = torch.Tensor(split(parts[i+3],',',True)):view(1,1276)\n",
    "        data_filter = torch.Tensor(split(parts[i+4],',',True))\n",
    "        \n",
    "        -- forward pass model then filter out labels that dont appear as relationship types for this ent\n",
    "        pred = model:forward({data_input,tf_matrix})[1]\n",
    "        pred_filtered = torch.cmul(pred,data_filter)\n",
    "        --print(pred_filtered)\n",
    "        -- loop relationship type classes\n",
    "        for k=1,1531 do\n",
    "            \n",
    "            -- add an entry to predictions for this entity,relationship_type pair if an edge exists in freebase\n",
    "            if pred_filtered[k]~=0 then \n",
    "                val = pred_filtered[k] + p_spelling * ent_score\n",
    "                table.insert(predictions,{val,k,ent_correct})\n",
    "                --print(k..' '..g[k]..' '..g_base[k]..' '..p) \n",
    "            end\n",
    "        end\n",
    "        \n",
    "    end\n",
    "    \n",
    "    -- sort predictions by score\n",
    "    function compare(a,b)\n",
    "        return a[1] > b[1]\n",
    "    end\n",
    "    table.sort(predictions,compare)\n",
    "    \n",
    "    --for i=1,5 do\n",
    "    --    print(predictions[i])\n",
    "    --end\n",
    "    \n",
    "    -- see if top prediction has correct entity and relationship type\n",
    "    if predictions[1][3]=='True' and predictions[1][2]==correct_label then\n",
    "        print '$yes'\n",
    "    else\n",
    "        print '$no'\n",
    "    end\n",
    "    \n",
    "end"
   ]
  },
  {
   "cell_type": "code",
   "execution_count": null,
   "metadata": {
    "collapsed": true
   },
   "outputs": [],
   "source": []
  },
  {
   "cell_type": "code",
   "execution_count": null,
   "metadata": {
    "collapsed": true
   },
   "outputs": [],
   "source": []
  },
  {
   "cell_type": "code",
   "execution_count": null,
   "metadata": {
    "collapsed": true
   },
   "outputs": [],
   "source": []
  },
  {
   "cell_type": "code",
   "execution_count": null,
   "metadata": {
    "collapsed": true
   },
   "outputs": [],
   "source": []
  },
  {
   "cell_type": "code",
   "execution_count": null,
   "metadata": {
    "collapsed": true
   },
   "outputs": [],
   "source": []
  },
  {
   "cell_type": "code",
   "execution_count": null,
   "metadata": {
    "collapsed": true
   },
   "outputs": [],
   "source": []
  },
  {
   "cell_type": "code",
   "execution_count": null,
   "metadata": {
    "collapsed": true
   },
   "outputs": [],
   "source": []
  },
  {
   "cell_type": "code",
   "execution_count": null,
   "metadata": {
    "collapsed": true
   },
   "outputs": [],
   "source": []
  },
  {
   "cell_type": "code",
   "execution_count": null,
   "metadata": {
    "collapsed": true
   },
   "outputs": [],
   "source": []
  },
  {
   "cell_type": "code",
   "execution_count": null,
   "metadata": {
    "collapsed": true
   },
   "outputs": [],
   "source": []
  },
  {
   "cell_type": "code",
   "execution_count": null,
   "metadata": {
    "collapsed": true
   },
   "outputs": [],
   "source": []
  },
  {
   "cell_type": "code",
   "execution_count": null,
   "metadata": {
    "collapsed": true
   },
   "outputs": [],
   "source": []
  },
  {
   "cell_type": "code",
   "execution_count": null,
   "metadata": {
    "collapsed": true
   },
   "outputs": [],
   "source": []
  },
  {
   "cell_type": "code",
   "execution_count": null,
   "metadata": {
    "collapsed": true
   },
   "outputs": [],
   "source": []
  },
  {
   "cell_type": "code",
   "execution_count": null,
   "metadata": {
    "collapsed": true
   },
   "outputs": [],
   "source": []
  },
  {
   "cell_type": "code",
   "execution_count": null,
   "metadata": {
    "collapsed": true
   },
   "outputs": [],
   "source": []
  },
  {
   "cell_type": "code",
   "execution_count": null,
   "metadata": {
    "collapsed": true
   },
   "outputs": [],
   "source": []
  },
  {
   "cell_type": "code",
   "execution_count": null,
   "metadata": {
    "collapsed": true
   },
   "outputs": [],
   "source": []
  },
  {
   "cell_type": "code",
   "execution_count": null,
   "metadata": {
    "collapsed": true
   },
   "outputs": [],
   "source": []
  },
  {
   "cell_type": "code",
   "execution_count": null,
   "metadata": {
    "collapsed": true
   },
   "outputs": [],
   "source": []
  },
  {
   "cell_type": "code",
   "execution_count": null,
   "metadata": {
    "collapsed": true
   },
   "outputs": [],
   "source": []
  },
  {
   "cell_type": "code",
   "execution_count": null,
   "metadata": {
    "collapsed": true
   },
   "outputs": [],
   "source": []
  },
  {
   "cell_type": "code",
   "execution_count": null,
   "metadata": {
    "collapsed": true
   },
   "outputs": [],
   "source": []
  },
  {
   "cell_type": "code",
   "execution_count": null,
   "metadata": {
    "collapsed": true
   },
   "outputs": [],
   "source": []
  },
  {
   "cell_type": "code",
   "execution_count": null,
   "metadata": {
    "collapsed": true
   },
   "outputs": [],
   "source": []
  },
  {
   "cell_type": "code",
   "execution_count": null,
   "metadata": {
    "collapsed": true
   },
   "outputs": [],
   "source": []
  },
  {
   "cell_type": "code",
   "execution_count": null,
   "metadata": {
    "collapsed": true
   },
   "outputs": [],
   "source": []
  },
  {
   "cell_type": "code",
   "execution_count": null,
   "metadata": {
    "collapsed": true
   },
   "outputs": [],
   "source": []
  },
  {
   "cell_type": "code",
   "execution_count": null,
   "metadata": {
    "collapsed": true
   },
   "outputs": [],
   "source": []
  },
  {
   "cell_type": "code",
   "execution_count": null,
   "metadata": {
    "collapsed": true
   },
   "outputs": [],
   "source": []
  },
  {
   "cell_type": "code",
   "execution_count": null,
   "metadata": {
    "collapsed": true
   },
   "outputs": [],
   "source": []
  },
  {
   "cell_type": "code",
   "execution_count": null,
   "metadata": {
    "collapsed": true
   },
   "outputs": [],
   "source": []
  },
  {
   "cell_type": "code",
   "execution_count": null,
   "metadata": {
    "collapsed": true
   },
   "outputs": [],
   "source": []
  },
  {
   "cell_type": "code",
   "execution_count": null,
   "metadata": {
    "collapsed": true
   },
   "outputs": [],
   "source": []
  },
  {
   "cell_type": "code",
   "execution_count": null,
   "metadata": {
    "collapsed": true
   },
   "outputs": [],
   "source": []
  },
  {
   "cell_type": "code",
   "execution_count": null,
   "metadata": {
    "collapsed": true
   },
   "outputs": [],
   "source": []
  },
  {
   "cell_type": "code",
   "execution_count": null,
   "metadata": {
    "collapsed": true
   },
   "outputs": [],
   "source": []
  },
  {
   "cell_type": "code",
   "execution_count": null,
   "metadata": {
    "collapsed": true
   },
   "outputs": [],
   "source": []
  }
 ],
 "metadata": {
  "kernelspec": {
   "display_name": "iTorch",
   "language": "lua",
   "name": "itorch"
  },
  "language_info": {
   "name": "lua",
   "version": "20100"
  }
 },
 "nbformat": 4,
 "nbformat_minor": 0
}
